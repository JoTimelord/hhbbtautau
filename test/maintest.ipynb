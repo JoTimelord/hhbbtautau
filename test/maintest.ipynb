{
 "cells": [
  {
   "cell_type": "code",
   "execution_count": 1,
   "id": "e2ca7793",
   "metadata": {},
   "outputs": [],
   "source": [
    "import uproot\n",
    "from coffea.nanoevents import NanoEventsFactory, BaseSchema\n",
    "from analysis.processing import *"
   ]
  },
  {
   "cell_type": "code",
   "execution_count": 7,
   "id": "7b21ea0a",
   "metadata": {},
   "outputs": [
    {
     "name": "stdout",
     "output_type": "stream",
     "text": [
      "The autoreload extension is already loaded. To reload it, use:\n",
      "  %reload_ext autoreload\n"
     ]
    }
   ],
   "source": [
    "%load_ext autoreload\n",
    "%autoreload 2"
   ]
  },
  {
   "cell_type": "code",
   "execution_count": 3,
   "id": "bdb043ab",
   "metadata": {},
   "outputs": [],
   "source": [
    "filename = \"/Users/yuntongzhou/Desktop/Dihiggszztt/sample2.root\"\n",
    "file = uproot.open(filename)\n",
    "events = NanoEventsFactory.from_root(\n",
    "    file,\n",
    "    entry_stop=10000,\n",
    "    metadata={\"dataset\": \"sample2\"},\n",
    "    schemaclass=BaseSchema,\n",
    ").events()\n",
    "p = hhbbtautauProcessor()"
   ]
  },
  {
   "cell_type": "code",
   "execution_count": 12,
   "id": "bbca22af",
   "metadata": {},
   "outputs": [
    {
     "ename": "AttributeError",
     "evalue": "no field named 'delta_r'\n\n(https://github.com/scikit-hep/awkward-1.0/blob/1.10.4/src/awkward/highlevel.py#L1124)",
     "output_type": "error",
     "traceback": [
      "\u001b[0;31m---------------------------------------------------------------------------\u001b[0m",
      "\u001b[0;31mAttributeError\u001b[0m                            Traceback (most recent call last)",
      "Cell \u001b[0;32mIn[12], line 1\u001b[0m\n\u001b[0;32m----> 1\u001b[0m out \u001b[38;5;241m=\u001b[39m \u001b[43mp\u001b[49m\u001b[38;5;241;43m.\u001b[39;49m\u001b[43mprocess\u001b[49m\u001b[43m(\u001b[49m\u001b[43mevents\u001b[49m\u001b[43m)\u001b[49m\n",
      "File \u001b[0;32m~/Desktop/Dihiggszztt/HHtobbtautau/src/analysis/processing.py:66\u001b[0m, in \u001b[0;36mhhbbtautauProcessor.process\u001b[0;34m(self, events)\u001b[0m\n\u001b[1;32m     63\u001b[0m events_dict, cutflow_dict \u001b[38;5;241m=\u001b[39m lepton_selections(events, cfg)\n\u001b[1;32m     65\u001b[0m \u001b[38;5;66;03m# Pair selections\u001b[39;00m\n\u001b[0;32m---> 66\u001b[0m \u001b[43mpair_selections\u001b[49m\u001b[43m(\u001b[49m\u001b[43mevents_dict\u001b[49m\u001b[43m,\u001b[49m\u001b[43m \u001b[49m\u001b[43mcutflow_dict\u001b[49m\u001b[43m,\u001b[49m\u001b[43m \u001b[49m\u001b[43mcfg\u001b[49m\u001b[43m)\u001b[49m\n\u001b[1;32m     68\u001b[0m \u001b[38;5;66;03m# Jet selections\u001b[39;00m\n\u001b[1;32m     69\u001b[0m jet_selections(events_dict, cutflow_dict, cfg)\n",
      "File \u001b[0;32m~/Desktop/Dihiggszztt/HHtobbtautau/src/analysis/selutility.py:134\u001b[0m, in \u001b[0;36mpair_selections\u001b[0;34m(events_dict, cutflow_dict, cfg)\u001b[0m\n\u001b[1;32m    132\u001b[0m         pairmask \u001b[38;5;241m=\u001b[39m SS \u001b[38;5;241m&\u001b[39m dR\n\u001b[1;32m    133\u001b[0m \u001b[38;5;28;01melif\u001b[39;00m pairname\u001b[38;5;241m.\u001b[39mfind(\u001b[38;5;124m\"\u001b[39m\u001b[38;5;124mE\u001b[39m\u001b[38;5;124m\"\u001b[39m) \u001b[38;5;241m!=\u001b[39m \u001b[38;5;241m-\u001b[39m\u001b[38;5;241m1\u001b[39m \u001b[38;5;129;01mand\u001b[39;00m pairname\u001b[38;5;241m.\u001b[39mfind(\u001b[38;5;124m\"\u001b[39m\u001b[38;5;124mT\u001b[39m\u001b[38;5;124m\"\u001b[39m)\u001b[38;5;241m!=\u001b[39m \u001b[38;5;241m-\u001b[39m\u001b[38;5;241m1\u001b[39m:\n\u001b[0;32m--> 134\u001b[0m     dR \u001b[38;5;241m=\u001b[39m (\u001b[43mfilter_electrons\u001b[49m\u001b[43m[\u001b[49m\u001b[43m:\u001b[49m\u001b[43m,\u001b[49m\u001b[38;5;241;43m0\u001b[39;49m\u001b[43m]\u001b[49m\u001b[38;5;241;43m.\u001b[39;49m\u001b[43mdelta_r\u001b[49m(filter_taus) \u001b[38;5;241m>\u001b[39m\u001b[38;5;241m=\u001b[39m pairselect\u001b[38;5;241m.\u001b[39mdRLevel)\n\u001b[1;32m    135\u001b[0m     \u001b[38;5;28;01mif\u001b[39;00m pairselect\u001b[38;5;241m.\u001b[39mOS \u001b[38;5;241m==\u001b[39m \u001b[38;5;28;01mTrue\u001b[39;00m:\n\u001b[1;32m    136\u001b[0m         OS \u001b[38;5;241m=\u001b[39m (filter_electrons[:,\u001b[38;5;241m0\u001b[39m][\u001b[38;5;124m\"\u001b[39m\u001b[38;5;124mcharge\u001b[39m\u001b[38;5;124m\"\u001b[39m] \u001b[38;5;241m*\u001b[39m filter_taus[\u001b[38;5;124m\"\u001b[39m\u001b[38;5;124mcharge\u001b[39m\u001b[38;5;124m\"\u001b[39m] \u001b[38;5;241m<\u001b[39m \u001b[38;5;241m0\u001b[39m)\n",
      "File \u001b[0;32m~/miniconda3/envs/CMS/lib/python3.9/site-packages/awkward/highlevel.py:1123\u001b[0m, in \u001b[0;36mArray.__getattr__\u001b[0;34m(self, where)\u001b[0m\n\u001b[1;32m   1117\u001b[0m         \u001b[38;5;28;01mraise\u001b[39;00m \u001b[38;5;167;01mAttributeError\u001b[39;00m(\n\u001b[1;32m   1118\u001b[0m             \u001b[38;5;124m\"\u001b[39m\u001b[38;5;124mwhile trying to get field \u001b[39m\u001b[38;5;132;01m{}\u001b[39;00m\u001b[38;5;124m, an exception \u001b[39m\u001b[38;5;124m\"\u001b[39m\n\u001b[1;32m   1119\u001b[0m             \u001b[38;5;124m\"\u001b[39m\u001b[38;5;124moccurred:\u001b[39m\u001b[38;5;130;01m\\n\u001b[39;00m\u001b[38;5;132;01m{}\u001b[39;00m\u001b[38;5;124m: \u001b[39m\u001b[38;5;132;01m{}\u001b[39;00m\u001b[38;5;124m\"\u001b[39m\u001b[38;5;241m.\u001b[39mformat(\u001b[38;5;28mrepr\u001b[39m(where), \u001b[38;5;28mtype\u001b[39m(err), \u001b[38;5;28mstr\u001b[39m(err))\n\u001b[1;32m   1120\u001b[0m             \u001b[38;5;241m+\u001b[39m ak\u001b[38;5;241m.\u001b[39m_util\u001b[38;5;241m.\u001b[39mexception_suffix(\u001b[38;5;18m__file__\u001b[39m)\n\u001b[1;32m   1121\u001b[0m         ) \u001b[38;5;28;01mfrom\u001b[39;00m \u001b[38;5;21;01merr\u001b[39;00m\n\u001b[1;32m   1122\u001b[0m \u001b[38;5;28;01melse\u001b[39;00m:\n\u001b[0;32m-> 1123\u001b[0m     \u001b[38;5;28;01mraise\u001b[39;00m \u001b[38;5;167;01mAttributeError\u001b[39;00m(\n\u001b[1;32m   1124\u001b[0m         \u001b[38;5;124mf\u001b[39m\u001b[38;5;124m\"\u001b[39m\u001b[38;5;124mno field named \u001b[39m\u001b[38;5;132;01m{\u001b[39;00mwhere\u001b[38;5;132;01m!r}\u001b[39;00m\u001b[38;5;124m\"\u001b[39m \u001b[38;5;241m+\u001b[39m ak\u001b[38;5;241m.\u001b[39m_util\u001b[38;5;241m.\u001b[39mexception_suffix(\u001b[38;5;18m__file__\u001b[39m)\n\u001b[1;32m   1125\u001b[0m     )\n",
      "\u001b[0;31mAttributeError\u001b[0m: no field named 'delta_r'\n\n(https://github.com/scikit-hep/awkward-1.0/blob/1.10.4/src/awkward/highlevel.py#L1124)"
     ]
    }
   ],
   "source": [
    "out = p.process(events)"
   ]
  },
  {
   "cell_type": "code",
   "execution_count": null,
   "id": "30124f53",
   "metadata": {},
   "outputs": [],
   "source": []
  }
 ],
 "metadata": {
  "kernelspec": {
   "display_name": "Python 3 (ipykernel)",
   "language": "python",
   "name": "python3"
  },
  "language_info": {
   "codemirror_mode": {
    "name": "ipython",
    "version": 3
   },
   "file_extension": ".py",
   "mimetype": "text/x-python",
   "name": "python",
   "nbconvert_exporter": "python",
   "pygments_lexer": "ipython3",
   "version": "3.9.16"
  }
 },
 "nbformat": 4,
 "nbformat_minor": 5
}
