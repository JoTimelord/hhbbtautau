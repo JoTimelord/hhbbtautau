{
 "cells": [
  {
   "cell_type": "code",
   "execution_count": 1,
   "id": "e2ca7793",
   "metadata": {},
   "outputs": [],
   "source": [
    "import uproot\n",
    "from coffea.nanoevents import NanoEventsFactory, BaseSchema\n",
    "from analysis.processing import *"
   ]
  },
  {
   "cell_type": "code",
   "execution_count": 2,
   "id": "7b21ea0a",
   "metadata": {},
   "outputs": [],
   "source": [
    "%load_ext autoreload\n",
    "%autoreload 2"
   ]
  },
  {
   "cell_type": "code",
   "execution_count": 3,
   "id": "bdb043ab",
   "metadata": {},
   "outputs": [],
   "source": [
    "filename = \"/Users/yuntongzhou/Desktop/Dihiggszztt/sample2.root\"\n",
    "file = uproot.open(filename)\n",
    "events = NanoEventsFactory.from_root(\n",
    "    file,\n",
    "    entry_stop=10000,\n",
    "    metadata={\"dataset\": \"sample2\"},\n",
    "    schemaclass=BaseSchema,\n",
    ").events()\n",
    "p = hhbbtautauProcessor()"
   ]
  },
  {
   "cell_type": "code",
   "execution_count": 4,
   "id": "bbca22af",
   "metadata": {},
   "outputs": [],
   "source": [
    "out = p.process(events)"
   ]
  },
  {
   "cell_type": "code",
   "execution_count": 5,
   "id": "e888caab",
   "metadata": {},
   "outputs": [
    {
     "data": {
      "text/plain": [
       "defaultdict_accumulator(int,\n",
       "                        {'Total': 459,\n",
       "                         'ElectronSelection': 310,\n",
       "                         'MuonSelection': 40,\n",
       "                         'TauSelection': 4,\n",
       "                         'Pair Selection': 4,\n",
       "                         'Jet selections': 4})"
      ]
     },
     "execution_count": 5,
     "metadata": {},
     "output_type": "execute_result"
    }
   ],
   "source": [
    "out['taumtauh']['Cutflow']"
   ]
  },
  {
   "cell_type": "code",
   "execution_count": 6,
   "id": "682016d4",
   "metadata": {},
   "outputs": [
    {
     "data": {
      "text/plain": [
       "defaultdict_accumulator(int,\n",
       "                        {'Total': 455,\n",
       "                         'ElectronSelection': 59,\n",
       "                         'MuonSelection': 50,\n",
       "                         'TauSelection': 14,\n",
       "                         'Pair Selection': 11,\n",
       "                         'Jet selections': 11})"
      ]
     },
     "execution_count": 6,
     "metadata": {},
     "output_type": "execute_result"
    }
   ],
   "source": [
    "out['tauetauh']['Cutflow']"
   ]
  },
  {
   "cell_type": "code",
   "execution_count": 7,
   "id": "710184a2",
   "metadata": {},
   "outputs": [
    {
     "data": {
      "text/plain": [
       "defaultdict_accumulator(int,\n",
       "                        {'Total': 441,\n",
       "                         'TauSelection': 14,\n",
       "                         'Pair Selection': 11,\n",
       "                         'Jet selections': 11})"
      ]
     },
     "execution_count": 7,
     "metadata": {},
     "output_type": "execute_result"
    }
   ],
   "source": [
    "out['tauhtauh']['Cutflow']"
   ]
  },
  {
   "cell_type": "markdown",
   "id": "c49e9ec8",
   "metadata": {},
   "source": [
    "### Debugging Code"
   ]
  },
  {
   "cell_type": "code",
   "execution_count": 59,
   "id": "fbf4abab",
   "metadata": {},
   "outputs": [],
   "source": [
    "from analysis.selutility import lep_properties, LV"
   ]
  },
  {
   "cell_type": "code",
   "execution_count": 67,
   "id": "0e4fcccf",
   "metadata": {},
   "outputs": [],
   "source": [
    "import awkward as ak"
   ]
  },
  {
   "cell_type": "code",
   "execution_count": 71,
   "id": "e4577670",
   "metadata": {},
   "outputs": [],
   "source": [
    "muons, electrons, taus = lep_properties(events)"
   ]
  },
  {
   "cell_type": "code",
   "execution_count": 8,
   "id": "9195890c",
   "metadata": {},
   "outputs": [],
   "source": [
    "events_dict, cutflow_dict = lepton_selections(events, cfg)"
   ]
  },
  {
   "cell_type": "code",
   "execution_count": 9,
   "id": "9733c616",
   "metadata": {},
   "outputs": [
    {
     "data": {
      "text/plain": [
       "{'channel1': {'Total': 459,\n",
       "  'ElectronSelection': 310,\n",
       "  'MuonSelection': 40,\n",
       "  'TauSelection': 4},\n",
       " 'channel2': {'Total': 455,\n",
       "  'ElectronSelection': 59,\n",
       "  'MuonSelection': 50,\n",
       "  'TauSelection': 14},\n",
       " 'channel3': {'Total': 441, 'TauSelection': 14}}"
      ]
     },
     "execution_count": 9,
     "metadata": {},
     "output_type": "execute_result"
    }
   ],
   "source": [
    "cutflow_dict"
   ]
  },
  {
   "cell_type": "code",
   "execution_count": 10,
   "id": "b5738708",
   "metadata": {},
   "outputs": [],
   "source": [
    "pair_selections(events_dict, cutflow_dict, cfg)"
   ]
  },
  {
   "cell_type": "code",
   "execution_count": 11,
   "id": "c631fc72",
   "metadata": {
    "collapsed": true
   },
   "outputs": [
    {
     "data": {
      "text/plain": [
       "{'channel1': {'Total': 459,\n",
       "  'ElectronSelection': 310,\n",
       "  'MuonSelection': 40,\n",
       "  'TauSelection': 4,\n",
       "  'Pair Selection': 4},\n",
       " 'channel2': {'Total': 455,\n",
       "  'ElectronSelection': 59,\n",
       "  'MuonSelection': 50,\n",
       "  'TauSelection': 14,\n",
       "  'Pair Selection': 11},\n",
       " 'channel3': {'Total': 441, 'TauSelection': 14, 'Pair Selection': 11}}"
      ]
     },
     "execution_count": 11,
     "metadata": {},
     "output_type": "execute_result"
    }
   ],
   "source": [
    "cutflow_dict"
   ]
  },
  {
   "cell_type": "code",
   "execution_count": 12,
   "id": "e0101bb1",
   "metadata": {},
   "outputs": [
    {
     "data": {
      "text/plain": [
       "<Array [[-1], [1], [1], [1, 1]] type='4 * var * int32[parameters={\"__doc__\": \"el...'>"
      ]
     },
     "execution_count": 12,
     "metadata": {},
     "output_type": "execute_result"
    }
   ],
   "source": [
    "events_dict['channel1']['Muon_charge']"
   ]
  },
  {
   "cell_type": "code",
   "execution_count": 13,
   "id": "1d4d557a",
   "metadata": {},
   "outputs": [
    {
     "data": {
      "text/plain": [
       "<Array [[-1, 1], [-1, 1, ... -1, 1], [1, -1]] type='4 * var * int32[parameters={...'>"
      ]
     },
     "execution_count": 13,
     "metadata": {},
     "output_type": "execute_result"
    }
   ],
   "source": [
    "events_dict['channel1']['Tau_charge']"
   ]
  },
  {
   "cell_type": "code",
   "execution_count": 76,
   "id": "93e0954e",
   "metadata": {},
   "outputs": [],
   "source": [
    "jet_selections(events_dict, cutflow_dict, cfg)"
   ]
  },
  {
   "cell_type": "code",
   "execution_count": 78,
   "id": "7c2a526a",
   "metadata": {},
   "outputs": [
    {
     "data": {
      "text/plain": [
       "<MomentumArray4D [{rho: 111, phi: -2.68, ... tau: 0.106}] type='5 * Momentum4D[\"...'>"
      ]
     },
     "execution_count": 78,
     "metadata": {},
     "output_type": "execute_result"
    }
   ],
   "source": [
    "ak.flatten(LV(\"Muon\",events_dict['channel1']))"
   ]
  },
  {
   "cell_type": "code",
   "execution_count": 64,
   "id": "c06ae367",
   "metadata": {},
   "outputs": [
    {
     "data": {
      "text/plain": [
       "<MomentumArray4D [[{rho: 142, phi: -2.99, ... tau: 119}]] type='4 * var * Moment...'>"
      ]
     },
     "execution_count": 64,
     "metadata": {},
     "output_type": "execute_result"
    }
   ],
   "source": [
    "LV(\"Muon\",events_dict['channel1'])[:,0]+LV(\"Tau\",events_dict['channel1'])"
   ]
  },
  {
   "cell_type": "code",
   "execution_count": null,
   "id": "ba337b56",
   "metadata": {},
   "outputs": [],
   "source": []
  }
 ],
 "metadata": {
  "kernelspec": {
   "display_name": "Python 3 (ipykernel)",
   "language": "python",
   "name": "python3"
  },
  "language_info": {
   "codemirror_mode": {
    "name": "ipython",
    "version": 3
   },
   "file_extension": ".py",
   "mimetype": "text/x-python",
   "name": "python",
   "nbconvert_exporter": "python",
   "pygments_lexer": "ipython3",
   "version": "3.9.16"
  }
 },
 "nbformat": 4,
 "nbformat_minor": 5
}
