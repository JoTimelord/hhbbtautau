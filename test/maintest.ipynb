{
 "cells": [
  {
   "cell_type": "code",
   "execution_count": 1,
   "id": "e2ca7793",
   "metadata": {},
   "outputs": [],
   "source": [
    "import uproot\n",
    "from coffea.nanoevents import NanoEventsFactory, BaseSchema\n",
    "from analysis.processing import *"
   ]
  },
  {
   "cell_type": "code",
   "execution_count": 2,
   "id": "7b21ea0a",
   "metadata": {},
   "outputs": [],
   "source": [
    "%load_ext autoreload\n",
    "%autoreload 2"
   ]
  },
  {
   "cell_type": "code",
   "execution_count": 6,
   "id": "bdb043ab",
   "metadata": {},
   "outputs": [],
   "source": [
    "filename = \"/Users/yuntongzhou/Desktop/Dihiggszztt/sample2.root\"\n",
    "file = uproot.open(filename)\n",
    "events = NanoEventsFactory.from_root(\n",
    "    file,\n",
    "    entry_stop=10000,\n",
    "    metadata={\"dataset\": \"sample2\"},\n",
    "    schemaclass=BaseSchema,\n",
    ").events()\n",
    "p = hhbbtautauProcessor()"
   ]
  },
  {
   "cell_type": "code",
   "execution_count": 8,
   "id": "bbca22af",
   "metadata": {},
   "outputs": [
    {
     "ename": "BoxKeyError",
     "evalue": "\"'DynaBox' object has no attribute 'ptLevel'\"",
     "output_type": "error",
     "traceback": [
      "\u001b[0;31m---------------------------------------------------------------------------\u001b[0m",
      "\u001b[0;31mBoxKeyError\u001b[0m                               Traceback (most recent call last)",
      "Cell \u001b[0;32mIn[8], line 1\u001b[0m\n\u001b[0;32m----> 1\u001b[0m out \u001b[38;5;241m=\u001b[39m \u001b[43mp\u001b[49m\u001b[38;5;241;43m.\u001b[39;49m\u001b[43mprocess\u001b[49m\u001b[43m(\u001b[49m\u001b[43mevents\u001b[49m\u001b[43m)\u001b[49m\n",
      "File \u001b[0;32m~/Desktop/Dihiggszztt/HHtobbtautau/src/analysis/processing.py:63\u001b[0m, in \u001b[0;36mhhbbtautauProcessor.process\u001b[0;34m(self, events)\u001b[0m\n\u001b[1;32m     57\u001b[0m dataset \u001b[38;5;241m=\u001b[39m events\u001b[38;5;241m.\u001b[39mmetadata[\u001b[38;5;124m'\u001b[39m\u001b[38;5;124mdataset\u001b[39m\u001b[38;5;124m'\u001b[39m]\n\u001b[1;32m     59\u001b[0m \u001b[38;5;66;03m# Triggers\u001b[39;00m\n\u001b[1;32m     60\u001b[0m \u001b[38;5;66;03m# TODO: Add triggers\u001b[39;00m\n\u001b[1;32m     61\u001b[0m \n\u001b[1;32m     62\u001b[0m \u001b[38;5;66;03m# Lepton selections\u001b[39;00m\n\u001b[0;32m---> 63\u001b[0m events_dict, cutflow_dict \u001b[38;5;241m=\u001b[39m \u001b[43mlepton_selections\u001b[49m\u001b[43m(\u001b[49m\u001b[43mevents\u001b[49m\u001b[43m,\u001b[49m\u001b[43m \u001b[49m\u001b[43mcfg\u001b[49m\u001b[43m)\u001b[49m\n\u001b[1;32m     65\u001b[0m \u001b[38;5;66;03m# Pair selections\u001b[39;00m\n\u001b[1;32m     66\u001b[0m pair_selections(events_dict, cutflow_dict, cfg)\n",
      "File \u001b[0;32m~/Desktop/Dihiggszztt/HHtobbtautau/src/analysis/selutility.py:56\u001b[0m, in \u001b[0;36mlepton_selections\u001b[0;34m(events, cfg)\u001b[0m\n\u001b[1;32m     53\u001b[0m     filter_electrons = electrons[electronmask]\n\u001b[1;32m     54\u001b[0m     lepselection.add(\"ElectronSelection\", ak.to_numpy(ak.num(filter_electrons)==eselect.count))\n\u001b[1;32m     55\u001b[0m # apply vetos    \n\u001b[0;32m---> 56\u001b[0m else:\n\u001b[1;32m     57\u001b[0m     electronmask = (electrons.pt>eselect.ptLevel)\n\u001b[1;32m     58\u001b[0m     filter_electrons = electrons[electronmask]\n",
      "File \u001b[0;32m~/miniconda3/envs/CMS/lib/python3.9/site-packages/dynaconf/utils/boxing.py:21\u001b[0m, in \u001b[0;36mevaluate_lazy_format.<locals>.evaluate\u001b[0;34m(dynabox, item, *args, **kwargs)\u001b[0m\n\u001b[1;32m     18\u001b[0m \u001b[38;5;28;01mif\u001b[39;00m dynabox\u001b[38;5;241m.\u001b[39m_box_config\u001b[38;5;241m.\u001b[39mget(\u001b[38;5;124m\"\u001b[39m\u001b[38;5;124m_bypass_evaluation\u001b[39m\u001b[38;5;124m\"\u001b[39m) \u001b[38;5;129;01mis\u001b[39;00m \u001b[38;5;28;01mTrue\u001b[39;00m:\n\u001b[1;32m     19\u001b[0m     \u001b[38;5;28;01mreturn\u001b[39;00m f(dynabox, item, \u001b[38;5;241m*\u001b[39margs, \u001b[38;5;241m*\u001b[39m\u001b[38;5;241m*\u001b[39mkwargs)\n\u001b[0;32m---> 21\u001b[0m value \u001b[38;5;241m=\u001b[39m \u001b[43mf\u001b[49m\u001b[43m(\u001b[49m\u001b[43mdynabox\u001b[49m\u001b[43m,\u001b[49m\u001b[43m \u001b[49m\u001b[43mitem\u001b[49m\u001b[43m,\u001b[49m\u001b[43m \u001b[49m\u001b[38;5;241;43m*\u001b[39;49m\u001b[43margs\u001b[49m\u001b[43m,\u001b[49m\u001b[43m \u001b[49m\u001b[38;5;241;43m*\u001b[39;49m\u001b[38;5;241;43m*\u001b[39;49m\u001b[43mkwargs\u001b[49m\u001b[43m)\u001b[49m\n\u001b[1;32m     22\u001b[0m settings \u001b[38;5;241m=\u001b[39m dynabox\u001b[38;5;241m.\u001b[39m_box_config[\u001b[38;5;124m\"\u001b[39m\u001b[38;5;124mbox_settings\u001b[39m\u001b[38;5;124m\"\u001b[39m]\n\u001b[1;32m     24\u001b[0m \u001b[38;5;28;01mif\u001b[39;00m \u001b[38;5;28mgetattr\u001b[39m(value, \u001b[38;5;124m\"\u001b[39m\u001b[38;5;124m_dynaconf_lazy_format\u001b[39m\u001b[38;5;124m\"\u001b[39m, \u001b[38;5;28;01mNone\u001b[39;00m):\n",
      "File \u001b[0;32m~/miniconda3/envs/CMS/lib/python3.9/site-packages/dynaconf/utils/boxing.py:44\u001b[0m, in \u001b[0;36mDynaBox.__getattr__\u001b[0;34m(self, item, *args, **kwargs)\u001b[0m\n\u001b[1;32m     42\u001b[0m \u001b[38;5;28;01mexcept\u001b[39;00m (\u001b[38;5;167;01mAttributeError\u001b[39;00m, \u001b[38;5;167;01mKeyError\u001b[39;00m):\n\u001b[1;32m     43\u001b[0m     n_item \u001b[38;5;241m=\u001b[39m find_the_correct_casing(item, \u001b[38;5;28mself\u001b[39m) \u001b[38;5;129;01mor\u001b[39;00m item\n\u001b[0;32m---> 44\u001b[0m     \u001b[38;5;28;01mreturn\u001b[39;00m \u001b[38;5;28;43msuper\u001b[39;49m\u001b[43m(\u001b[49m\u001b[43m)\u001b[49m\u001b[38;5;241;43m.\u001b[39;49m\u001b[38;5;21;43m__getattr__\u001b[39;49m\u001b[43m(\u001b[49m\u001b[43mn_item\u001b[49m\u001b[43m,\u001b[49m\u001b[43m \u001b[49m\u001b[38;5;241;43m*\u001b[39;49m\u001b[43margs\u001b[49m\u001b[43m,\u001b[49m\u001b[43m \u001b[49m\u001b[38;5;241;43m*\u001b[39;49m\u001b[38;5;241;43m*\u001b[39;49m\u001b[43mkwargs\u001b[49m\u001b[43m)\u001b[49m\n",
      "File \u001b[0;32m~/miniconda3/envs/CMS/lib/python3.9/site-packages/dynaconf/vendor/box/box.py:176\u001b[0m, in \u001b[0;36mBox.__getattr__\u001b[0;34m(A, item)\u001b[0m\n\u001b[1;32m    174\u001b[0m \t\t\u001b[38;5;28;01mif\u001b[39;00m D \u001b[38;5;129;01min\u001b[39;00m A\u001b[38;5;241m.\u001b[39m_box_config[_C]:\u001b[38;5;28;01mreturn\u001b[39;00m A\u001b[38;5;241m.\u001b[39m\u001b[38;5;21m__getitem__\u001b[39m(A\u001b[38;5;241m.\u001b[39m_box_config[_C][D])\n\u001b[1;32m    175\u001b[0m \t\u001b[38;5;28;01mif\u001b[39;00m A\u001b[38;5;241m.\u001b[39m_box_config[_J]:\u001b[38;5;28;01mreturn\u001b[39;00m A\u001b[38;5;241m.\u001b[39m__get_default(B)\n\u001b[0;32m--> 176\u001b[0m \t\u001b[38;5;28;01mraise\u001b[39;00m BoxKeyError(\u001b[38;5;28mstr\u001b[39m(E)) \u001b[38;5;28;01mfrom\u001b[39;00m \u001b[38;5;21;01m_A\u001b[39;00m\n\u001b[1;32m    177\u001b[0m \u001b[38;5;28;01mreturn\u001b[39;00m C\n",
      "\u001b[0;31mBoxKeyError\u001b[0m: \"'DynaBox' object has no attribute 'ptLevel'\""
     ]
    }
   ],
   "source": [
    "out = p.process(events)"
   ]
  },
  {
   "cell_type": "code",
   "execution_count": null,
   "id": "e888caab",
   "metadata": {},
   "outputs": [],
   "source": []
  }
 ],
 "metadata": {
  "kernelspec": {
   "display_name": "Python 3 (ipykernel)",
   "language": "python",
   "name": "python3"
  },
  "language_info": {
   "codemirror_mode": {
    "name": "ipython",
    "version": 3
   },
   "file_extension": ".py",
   "mimetype": "text/x-python",
   "name": "python",
   "nbconvert_exporter": "python",
   "pygments_lexer": "ipython3",
   "version": "3.9.16"
  }
 },
 "nbformat": 4,
 "nbformat_minor": 5
}
