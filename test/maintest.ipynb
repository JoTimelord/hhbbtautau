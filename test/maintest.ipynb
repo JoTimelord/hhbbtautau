{
 "cells": [
  {
   "cell_type": "code",
   "execution_count": 14,
   "id": "e2ca7793",
   "metadata": {},
   "outputs": [],
   "source": [
    "import uproot\n",
    "from coffea.nanoevents import NanoEventsFactory, BaseSchema\n",
    "from analysis.processing import *"
   ]
  },
  {
   "cell_type": "code",
   "execution_count": 13,
   "id": "9b400d69",
   "metadata": {},
   "outputs": [
    {
     "name": "stdout",
     "output_type": "stream",
     "text": [
      "The autoreload extension is already loaded. To reload it, use:\n",
      "  %reload_ext autoreload\n"
     ]
    }
   ],
   "source": [
    "%load_ext autoreload\n",
    "%autoreload 2"
   ]
  },
  {
   "cell_type": "code",
   "execution_count": 15,
   "id": "72b2e38c",
   "metadata": {},
   "outputs": [
    {
     "ename": "BoxKeyError",
     "evalue": "\"'DynaBox' object has no attribute 'veto'\"",
     "output_type": "error",
     "traceback": [
      "\u001b[0;31m---------------------------------------------------------------------------\u001b[0m",
      "\u001b[0;31mBoxKeyError\u001b[0m                               Traceback (most recent call last)",
      "Cell \u001b[0;32mIn[15], line 9\u001b[0m\n\u001b[1;32m      2\u001b[0m file \u001b[38;5;241m=\u001b[39m uproot\u001b[38;5;241m.\u001b[39mopen(filename)\n\u001b[1;32m      3\u001b[0m events \u001b[38;5;241m=\u001b[39m NanoEventsFactory\u001b[38;5;241m.\u001b[39mfrom_root(\n\u001b[1;32m      4\u001b[0m     file,\n\u001b[1;32m      5\u001b[0m     entry_stop\u001b[38;5;241m=\u001b[39m\u001b[38;5;241m10000\u001b[39m,\n\u001b[1;32m      6\u001b[0m     metadata\u001b[38;5;241m=\u001b[39m{\u001b[38;5;124m\"\u001b[39m\u001b[38;5;124mdataset\u001b[39m\u001b[38;5;124m\"\u001b[39m: \u001b[38;5;124m\"\u001b[39m\u001b[38;5;124msample2\u001b[39m\u001b[38;5;124m\"\u001b[39m},\n\u001b[1;32m      7\u001b[0m     schemaclass\u001b[38;5;241m=\u001b[39mBaseSchema,\n\u001b[1;32m      8\u001b[0m )\u001b[38;5;241m.\u001b[39mevents()\n\u001b[0;32m----> 9\u001b[0m p \u001b[38;5;241m=\u001b[39m \u001b[43mhhbbtautauProcessor\u001b[49m\u001b[43m(\u001b[49m\u001b[43m)\u001b[49m\n",
      "File \u001b[0;32m~/Desktop/Dihiggszztt/HHtobbtautau/src/analysis/processing.py:40\u001b[0m, in \u001b[0;36mhhbbtautauProcessor.__init__\u001b[0;34m(self, blind)\u001b[0m\n\u001b[1;32m     38\u001b[0m \u001b[38;5;28mself\u001b[39m\u001b[38;5;241m.\u001b[39m_blind\u001b[38;5;241m=\u001b[39m\u001b[38;5;28;01mFalse\u001b[39;00m\n\u001b[1;32m     39\u001b[0m \u001b[38;5;28mself\u001b[39m\u001b[38;5;241m.\u001b[39m_configure()\n\u001b[0;32m---> 40\u001b[0m \u001b[38;5;28mself\u001b[39m\u001b[38;5;241m.\u001b[39m_accumulator \u001b[38;5;241m=\u001b[39m \u001b[43mhhtobbtautau_accumulator\u001b[49m\u001b[43m(\u001b[49m\u001b[43mcfg\u001b[49m\u001b[43m)\u001b[49m\n",
      "File \u001b[0;32m~/Desktop/Dihiggszztt/HHtobbtautau/src/analysis/histbooker.py:49\u001b[0m, in \u001b[0;36mhhtobbtautau_accumulator\u001b[0;34m(cfg)\u001b[0m\n\u001b[1;32m     47\u001b[0m \u001b[38;5;28;01mif\u001b[39;00m (lepselname\u001b[38;5;241m.\u001b[39melectron \u001b[38;5;241m!=\u001b[39m \u001b[38;5;28;01mNone\u001b[39;00m) \u001b[38;5;129;01mand\u001b[39;00m \u001b[38;5;129;01mnot\u001b[39;00m lepselname\u001b[38;5;241m.\u001b[39melectron\u001b[38;5;241m.\u001b[39mveto:\n\u001b[1;32m     48\u001b[0m     book_single_col_accu(lepselname\u001b[38;5;241m.\u001b[39melectron\u001b[38;5;241m.\u001b[39moutputs, event_dict)\n\u001b[0;32m---> 49\u001b[0m \u001b[38;5;28;01mif\u001b[39;00m (lepselname\u001b[38;5;241m.\u001b[39mmuon \u001b[38;5;241m!=\u001b[39m \u001b[38;5;28;01mNone\u001b[39;00m) \u001b[38;5;129;01mand\u001b[39;00m \u001b[38;5;129;01mnot\u001b[39;00m \u001b[43mlepselname\u001b[49m\u001b[38;5;241;43m.\u001b[39;49m\u001b[43mmuon\u001b[49m\u001b[38;5;241;43m.\u001b[39;49m\u001b[43mveto\u001b[49m:\n\u001b[1;32m     50\u001b[0m     book_single_col_accu(lepselname\u001b[38;5;241m.\u001b[39mmuon\u001b[38;5;241m.\u001b[39moutputs, event_dict)\n\u001b[1;32m     51\u001b[0m \u001b[38;5;28;01mif\u001b[39;00m (lepselname\u001b[38;5;241m.\u001b[39mtau \u001b[38;5;241m!=\u001b[39m \u001b[38;5;28;01mNone\u001b[39;00m) \u001b[38;5;129;01mand\u001b[39;00m \u001b[38;5;129;01mnot\u001b[39;00m lepselname\u001b[38;5;241m.\u001b[39mtau\u001b[38;5;241m.\u001b[39mveto:\n",
      "File \u001b[0;32m~/miniconda3/envs/CMS/lib/python3.9/site-packages/dynaconf/utils/boxing.py:21\u001b[0m, in \u001b[0;36mevaluate_lazy_format.<locals>.evaluate\u001b[0;34m(dynabox, item, *args, **kwargs)\u001b[0m\n\u001b[1;32m     18\u001b[0m \u001b[38;5;28;01mif\u001b[39;00m dynabox\u001b[38;5;241m.\u001b[39m_box_config\u001b[38;5;241m.\u001b[39mget(\u001b[38;5;124m\"\u001b[39m\u001b[38;5;124m_bypass_evaluation\u001b[39m\u001b[38;5;124m\"\u001b[39m) \u001b[38;5;129;01mis\u001b[39;00m \u001b[38;5;28;01mTrue\u001b[39;00m:\n\u001b[1;32m     19\u001b[0m     \u001b[38;5;28;01mreturn\u001b[39;00m f(dynabox, item, \u001b[38;5;241m*\u001b[39margs, \u001b[38;5;241m*\u001b[39m\u001b[38;5;241m*\u001b[39mkwargs)\n\u001b[0;32m---> 21\u001b[0m value \u001b[38;5;241m=\u001b[39m \u001b[43mf\u001b[49m\u001b[43m(\u001b[49m\u001b[43mdynabox\u001b[49m\u001b[43m,\u001b[49m\u001b[43m \u001b[49m\u001b[43mitem\u001b[49m\u001b[43m,\u001b[49m\u001b[43m \u001b[49m\u001b[38;5;241;43m*\u001b[39;49m\u001b[43margs\u001b[49m\u001b[43m,\u001b[49m\u001b[43m \u001b[49m\u001b[38;5;241;43m*\u001b[39;49m\u001b[38;5;241;43m*\u001b[39;49m\u001b[43mkwargs\u001b[49m\u001b[43m)\u001b[49m\n\u001b[1;32m     22\u001b[0m settings \u001b[38;5;241m=\u001b[39m dynabox\u001b[38;5;241m.\u001b[39m_box_config[\u001b[38;5;124m\"\u001b[39m\u001b[38;5;124mbox_settings\u001b[39m\u001b[38;5;124m\"\u001b[39m]\n\u001b[1;32m     24\u001b[0m \u001b[38;5;28;01mif\u001b[39;00m \u001b[38;5;28mgetattr\u001b[39m(value, \u001b[38;5;124m\"\u001b[39m\u001b[38;5;124m_dynaconf_lazy_format\u001b[39m\u001b[38;5;124m\"\u001b[39m, \u001b[38;5;28;01mNone\u001b[39;00m):\n",
      "File \u001b[0;32m~/miniconda3/envs/CMS/lib/python3.9/site-packages/dynaconf/utils/boxing.py:44\u001b[0m, in \u001b[0;36mDynaBox.__getattr__\u001b[0;34m(self, item, *args, **kwargs)\u001b[0m\n\u001b[1;32m     42\u001b[0m \u001b[38;5;28;01mexcept\u001b[39;00m (\u001b[38;5;167;01mAttributeError\u001b[39;00m, \u001b[38;5;167;01mKeyError\u001b[39;00m):\n\u001b[1;32m     43\u001b[0m     n_item \u001b[38;5;241m=\u001b[39m find_the_correct_casing(item, \u001b[38;5;28mself\u001b[39m) \u001b[38;5;129;01mor\u001b[39;00m item\n\u001b[0;32m---> 44\u001b[0m     \u001b[38;5;28;01mreturn\u001b[39;00m \u001b[38;5;28;43msuper\u001b[39;49m\u001b[43m(\u001b[49m\u001b[43m)\u001b[49m\u001b[38;5;241;43m.\u001b[39;49m\u001b[38;5;21;43m__getattr__\u001b[39;49m\u001b[43m(\u001b[49m\u001b[43mn_item\u001b[49m\u001b[43m,\u001b[49m\u001b[43m \u001b[49m\u001b[38;5;241;43m*\u001b[39;49m\u001b[43margs\u001b[49m\u001b[43m,\u001b[49m\u001b[43m \u001b[49m\u001b[38;5;241;43m*\u001b[39;49m\u001b[38;5;241;43m*\u001b[39;49m\u001b[43mkwargs\u001b[49m\u001b[43m)\u001b[49m\n",
      "File \u001b[0;32m~/miniconda3/envs/CMS/lib/python3.9/site-packages/dynaconf/vendor/box/box.py:176\u001b[0m, in \u001b[0;36mBox.__getattr__\u001b[0;34m(A, item)\u001b[0m\n\u001b[1;32m    174\u001b[0m \t\t\u001b[38;5;28;01mif\u001b[39;00m D \u001b[38;5;129;01min\u001b[39;00m A\u001b[38;5;241m.\u001b[39m_box_config[_C]:\u001b[38;5;28;01mreturn\u001b[39;00m A\u001b[38;5;241m.\u001b[39m\u001b[38;5;21m__getitem__\u001b[39m(A\u001b[38;5;241m.\u001b[39m_box_config[_C][D])\n\u001b[1;32m    175\u001b[0m \t\u001b[38;5;28;01mif\u001b[39;00m A\u001b[38;5;241m.\u001b[39m_box_config[_J]:\u001b[38;5;28;01mreturn\u001b[39;00m A\u001b[38;5;241m.\u001b[39m__get_default(B)\n\u001b[0;32m--> 176\u001b[0m \t\u001b[38;5;28;01mraise\u001b[39;00m BoxKeyError(\u001b[38;5;28mstr\u001b[39m(E)) \u001b[38;5;28;01mfrom\u001b[39;00m \u001b[38;5;21;01m_A\u001b[39;00m\n\u001b[1;32m    177\u001b[0m \u001b[38;5;28;01mreturn\u001b[39;00m C\n",
      "\u001b[0;31mBoxKeyError\u001b[0m: \"'DynaBox' object has no attribute 'veto'\""
     ]
    }
   ],
   "source": [
    "filename = \"/Users/yuntongzhou/Desktop/Dihiggszztt/sample2.root\"\n",
    "file = uproot.open(filename)\n",
    "events = NanoEventsFactory.from_root(\n",
    "    file,\n",
    "    entry_stop=10000,\n",
    "    metadata={\"dataset\": \"sample2\"},\n",
    "    schemaclass=BaseSchema,\n",
    ").events()\n",
    "p = hhbbtautauProcessor()"
   ]
  },
  {
   "cell_type": "code",
   "execution_count": null,
   "id": "ce35ee66",
   "metadata": {},
   "outputs": [],
   "source": [
    "out = p.process(events)"
   ]
  }
 ],
 "metadata": {
  "kernelspec": {
   "display_name": "Python 3 (ipykernel)",
   "language": "python",
   "name": "python3"
  },
  "language_info": {
   "codemirror_mode": {
    "name": "ipython",
    "version": 3
   },
   "file_extension": ".py",
   "mimetype": "text/x-python",
   "name": "python",
   "nbconvert_exporter": "python",
   "pygments_lexer": "ipython3",
   "version": "3.9.16"
  }
 },
 "nbformat": 4,
 "nbformat_minor": 5
}
