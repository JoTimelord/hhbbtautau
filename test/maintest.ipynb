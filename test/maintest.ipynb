{
 "cells": [
  {
   "cell_type": "code",
   "execution_count": 1,
   "metadata": {},
   "outputs": [
    {
     "ename": "ImportError",
     "evalue": "No module named coffea.nanoevents",
     "output_type": "error",
     "traceback": [
      "\u001b[0;31m---------------------------------------------------------------------------\u001b[0m",
      "\u001b[0;31mImportError\u001b[0m                               Traceback (most recent call last)",
      "\u001b[0;32m<ipython-input-1-f73829c9853c>\u001b[0m in \u001b[0;36m<module>\u001b[0;34m()\u001b[0m\n\u001b[1;32m      1\u001b[0m \u001b[0;32mimport\u001b[0m \u001b[0muproot\u001b[0m\u001b[0;34m\u001b[0m\u001b[0m\n\u001b[0;32m----> 2\u001b[0;31m \u001b[0;32mfrom\u001b[0m \u001b[0mcoffea\u001b[0m\u001b[0;34m.\u001b[0m\u001b[0mnanoevents\u001b[0m \u001b[0;32mimport\u001b[0m \u001b[0mNanoEventsFactory\u001b[0m\u001b[0;34m,\u001b[0m \u001b[0mBaseSchema\u001b[0m\u001b[0;34m\u001b[0m\u001b[0m\n\u001b[0m\u001b[1;32m      3\u001b[0m \u001b[0;32mfrom\u001b[0m \u001b[0manalysis\u001b[0m\u001b[0;34m.\u001b[0m\u001b[0mprocessing\u001b[0m \u001b[0;32mimport\u001b[0m \u001b[0;34m*\u001b[0m\u001b[0;34m\u001b[0m\u001b[0m\n",
      "\u001b[0;31mImportError\u001b[0m: No module named coffea.nanoevents"
     ]
    }
   ],
   "source": [
    "import uproot\n",
    "from coffea.nanoevents import NanoEventsFactory, BaseSchema\n",
    "from analysis.processing import *"
   ]
  },
  {
   "cell_type": "code",
   "execution_count": 2,
   "metadata": {},
   "outputs": [],
   "source": [
    "%load_ext autoreload\n",
    "%autoreload 2"
   ]
  },
  {
   "cell_type": "code",
   "execution_count": 3,
   "metadata": {},
   "outputs": [],
   "source": [
    "filename = \"/Users/yuntongzhou/Desktop/Dihiggszztt/sample2.root\"\n",
    "file = uproot.open(filename)\n",
    "events = NanoEventsFactory.from_root(\n",
    "    file,\n",
    "    entry_stop=10000,\n",
    "    metadata={\"dataset\": \"sample2\"},\n",
    "    schemaclass=BaseSchema,\n",
    ").events()"
   ]
  },
  {
   "cell_type": "code",
   "execution_count": 4,
   "metadata": {},
   "outputs": [],
   "source": [
    "p = hhbbtautauProcessor()"
   ]
  },
  {
   "cell_type": "code",
   "execution_count": 7,
   "metadata": {},
   "outputs": [],
   "source": [
    "out = p.process(events)"
   ]
  },
  {
   "cell_type": "code",
   "execution_count": 8,
   "metadata": {},
   "outputs": [
    {
     "data": {
      "text/plain": [
       "defaultdict_accumulator(int,\n",
       "                        {'Total': 459,\n",
       "                         'ElectronSelection': 310,\n",
       "                         'MuonSelection': 40,\n",
       "                         'TauSelection': 4,\n",
       "                         'Pair Selection': 4,\n",
       "                         'Jet selections': 3})"
      ]
     },
     "execution_count": 8,
     "metadata": {},
     "output_type": "execute_result"
    }
   ],
   "source": [
    "out['taumtauh']['Cutflow']"
   ]
  },
  {
   "cell_type": "code",
   "execution_count": 9,
   "metadata": {},
   "outputs": [
    {
     "data": {
      "text/plain": [
       "defaultdict_accumulator(int,\n",
       "                        {'Total': 455,\n",
       "                         'ElectronSelection': 59,\n",
       "                         'MuonSelection': 50,\n",
       "                         'TauSelection': 12,\n",
       "                         'Pair Selection': 8,\n",
       "                         'Jet selections': 8})"
      ]
     },
     "execution_count": 9,
     "metadata": {},
     "output_type": "execute_result"
    }
   ],
   "source": [
    "out['tauetauh']['Cutflow']"
   ]
  },
  {
   "cell_type": "code",
   "execution_count": 10,
   "metadata": {},
   "outputs": [
    {
     "data": {
      "text/plain": [
       "defaultdict_accumulator(int,\n",
       "                        {'Total': 443,\n",
       "                         'TauSelection': 15,\n",
       "                         'Pair Selection': 15,\n",
       "                         'Jet selections': 14})"
      ]
     },
     "execution_count": 10,
     "metadata": {},
     "output_type": "execute_result"
    }
   ],
   "source": [
    "out['tauhtauh']['Cutflow']"
   ]
  },
  {
   "cell_type": "markdown",
   "metadata": {},
   "source": [
    "### Debugging Code"
   ]
  },
  {
   "cell_type": "code",
   "execution_count": 21,
   "metadata": {},
   "outputs": [],
   "source": [
    "from analysis.selutility import zip_lepproperties, LV_from_zipped"
   ]
  },
  {
   "cell_type": "code",
   "execution_count": 13,
   "metadata": {},
   "outputs": [],
   "source": [
    "import awkward as ak"
   ]
  },
  {
   "cell_type": "code",
   "execution_count": 14,
   "metadata": {},
   "outputs": [],
   "source": [
    "events_dict, cutflow_dict, object_dict = lepton_selections(events, cfg)"
   ]
  },
  {
   "cell_type": "code",
   "execution_count": 15,
   "metadata": {},
   "outputs": [],
   "source": [
    "pair_selections(events_dict, cutflow_dict, object_dict, cfg)"
   ]
  },
  {
   "cell_type": "code",
   "execution_count": 16,
   "metadata": {},
   "outputs": [
    {
     "data": {
      "text/plain": [
       "{'Electron': <PtEtaPhiMLorentzVectorArray [[], [], [], []] type='4 * var * PtEtaPhiMLorentzVe...'>,\n",
       " 'Muon': <PtEtaPhiMLorentzVectorArray [[{pt: 111, ... tightid: True}]] type='4 * var * Pt...'>,\n",
       " 'Tau': <PtEtaPhiMLorentzVectorArray [[{pt: 49.2, eta: -0.99, ... idvse: 8}]] type='4 * ...'>}"
      ]
     },
     "execution_count": 16,
     "metadata": {},
     "output_type": "execute_result"
    }
   ],
   "source": [
    "object_dict['channel1']"
   ]
  },
  {
   "cell_type": "code",
   "execution_count": 18,
   "metadata": {},
   "outputs": [
    {
     "data": {
      "text/plain": [
       "{'Total': 459,\n",
       " 'ElectronSelection': 310,\n",
       " 'MuonSelection': 40,\n",
       " 'TauSelection': 4,\n",
       " 'Pair Selection': 4}"
      ]
     },
     "execution_count": 18,
     "metadata": {},
     "output_type": "execute_result"
    }
   ],
   "source": [
    "cutflow_dict['channel1']"
   ]
  },
  {
   "cell_type": "code",
   "execution_count": 19,
   "metadata": {},
   "outputs": [],
   "source": [
    "jet_selections(events_dict, cutflow_dict, object_dict, cfg)"
   ]
  },
  {
   "cell_type": "code",
   "execution_count": 20,
   "metadata": {},
   "outputs": [
    {
     "data": {
      "text/plain": [
       "{'channel1': {'Total': 459,\n",
       "  'ElectronSelection': 310,\n",
       "  'MuonSelection': 40,\n",
       "  'TauSelection': 4,\n",
       "  'Pair Selection': 4,\n",
       "  'Jet selections': 3},\n",
       " 'channel2': {'Total': 455,\n",
       "  'ElectronSelection': 59,\n",
       "  'MuonSelection': 50,\n",
       "  'TauSelection': 12,\n",
       "  'Pair Selection': 8,\n",
       "  'Jet selections': 8},\n",
       " 'channel3': {'Total': 443,\n",
       "  'TauSelection': 15,\n",
       "  'Pair Selection': 15,\n",
       "  'Jet selections': 14}}"
      ]
     },
     "execution_count": 20,
     "metadata": {},
     "output_type": "execute_result"
    }
   ],
   "source": [
    "cutflow_dict"
   ]
  },
  {
   "cell_type": "code",
   "execution_count": 21,
   "metadata": {},
   "outputs": [
    {
     "data": {
      "text/plain": [
       "{'Electron': <PtEtaPhiMLorentzVectorArray [[{pt: 53.1, eta: 0.173, ... bdtid: 1}]] type='8 * ...'>,\n",
       " 'Muon': <PtEtaPhiMLorentzVectorArray [[], [], [], [], [], [], [], []] type='8 * var * Pt...'>,\n",
       " 'Tau': <PtEtaPhiMLorentzVectorArray [[{pt: 46.2, eta: 1, ... idvse: 8}]] type='8 * var ...'>,\n",
       " 'Jet': <Array [[{pt: 191, ... deepJetCvsB: 0.859}]] type='8 * var * PtEtaPhiMCandidate[...'>,\n",
       " 'FatJet': <Array [[{pt: 208, eta: 1.72, ... []] type='8 * var * PtEtaPhiMCandidate[\"pt\": f...'>}"
      ]
     },
     "execution_count": 21,
     "metadata": {},
     "output_type": "execute_result"
    }
   ],
   "source": [
    "object_dict['channel2']"
   ]
  },
  {
   "cell_type": "code",
   "execution_count": 10,
   "metadata": {},
   "outputs": [],
   "source": [
    "pair_selections(events_dict, cutflow_dict, cfg)"
   ]
  },
  {
   "cell_type": "code",
   "execution_count": 11,
   "metadata": {
    "collapsed": true
   },
   "outputs": [
    {
     "data": {
      "text/plain": [
       "{'channel1': {'Total': 459,\n",
       "  'ElectronSelection': 310,\n",
       "  'MuonSelection': 40,\n",
       "  'TauSelection': 4,\n",
       "  'Pair Selection': 4},\n",
       " 'channel2': {'Total': 455,\n",
       "  'ElectronSelection': 59,\n",
       "  'MuonSelection': 50,\n",
       "  'TauSelection': 14,\n",
       "  'Pair Selection': 11},\n",
       " 'channel3': {'Total': 441, 'TauSelection': 14, 'Pair Selection': 11}}"
      ]
     },
     "execution_count": 11,
     "metadata": {},
     "output_type": "execute_result"
    }
   ],
   "source": [
    "cutflow_dict"
   ]
  },
  {
   "cell_type": "code",
   "execution_count": 12,
   "metadata": {},
   "outputs": [
    {
     "data": {
      "text/plain": [
       "<Array [[-1], [1], [1], [1, 1]] type='4 * var * int32[parameters={\"__doc__\": \"el...'>"
      ]
     },
     "execution_count": 12,
     "metadata": {},
     "output_type": "execute_result"
    }
   ],
   "source": [
    "events_dict['channel1']['Muon_charge']"
   ]
  },
  {
   "cell_type": "code",
   "execution_count": 13,
   "metadata": {},
   "outputs": [
    {
     "data": {
      "text/plain": [
       "<Array [[-1, 1], [-1, 1, ... -1, 1], [1, -1]] type='4 * var * int32[parameters={...'>"
      ]
     },
     "execution_count": 13,
     "metadata": {},
     "output_type": "execute_result"
    }
   ],
   "source": [
    "events_dict['channel1']['Tau_charge']"
   ]
  },
  {
   "cell_type": "code",
   "execution_count": 76,
   "metadata": {},
   "outputs": [],
   "source": [
    "jet_selections(events_dict, cutflow_dict, cfg)"
   ]
  },
  {
   "cell_type": "code",
   "execution_count": 78,
   "metadata": {},
   "outputs": [
    {
     "data": {
      "text/plain": [
       "<MomentumArray4D [{rho: 111, phi: -2.68, ... tau: 0.106}] type='5 * Momentum4D[\"...'>"
      ]
     },
     "execution_count": 78,
     "metadata": {},
     "output_type": "execute_result"
    }
   ],
   "source": [
    "ak.flatten(LV(\"Muon\",events_dict['channel1']))"
   ]
  },
  {
   "cell_type": "code",
   "execution_count": 64,
   "metadata": {},
   "outputs": [
    {
     "data": {
      "text/plain": [
       "<MomentumArray4D [[{rho: 142, phi: -2.99, ... tau: 119}]] type='4 * var * Moment...'>"
      ]
     },
     "execution_count": 64,
     "metadata": {},
     "output_type": "execute_result"
    }
   ],
   "source": [
    "LV(\"Muon\",events_dict['channel1'])[:,0]+LV(\"Tau\",events_dict['channel1'])"
   ]
  },
  {
   "cell_type": "code",
   "execution_count": null,
   "metadata": {},
   "outputs": [],
   "source": []
  }
 ],
 "metadata": {
  "kernelspec": {
   "display_name": "Python 2",
   "language": "python",
   "name": "python2"
  },
  "language_info": {
   "codemirror_mode": {
    "name": "ipython",
    "version": 2
   },
   "file_extension": ".py",
   "mimetype": "text/x-python",
   "name": "python",
   "nbconvert_exporter": "python",
   "pygments_lexer": "ipython2",
   "version": "2.7.15+"
  }
 },
 "nbformat": 4,
 "nbformat_minor": 5
}
